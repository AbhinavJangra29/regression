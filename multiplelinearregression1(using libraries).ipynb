{
  "nbformat": 4,
  "nbformat_minor": 0,
  "metadata": {
    "colab": {
      "provenance": []
    },
    "kernelspec": {
      "name": "python3",
      "display_name": "Python 3"
    },
    "language_info": {
      "name": "python"
    }
  },
  "cells": [
    {
      "cell_type": "code",
      "execution_count": 2,
      "metadata": {
        "id": "K7KWadnoxka0"
      },
      "outputs": [],
      "source": [
        "from sklearn.datasets import make_regression\n",
        "import pandas as pd\n",
        "import numpy as np\n",
        "\n",
        "import plotly.express as px\n",
        "import plotly.graph_objects as go\n",
        "from sklearn.metrics import mean_absolute_error,mean_squared_error,r2_score\n"
      ]
    },
    {
      "cell_type": "code",
      "source": [
        "\n",
        "X,y=make_regression(n_samples=100,n_features=2,n_informative=2,noise=50)\n"
      ],
      "metadata": {
        "id": "dOdiv6HdxrK1"
      },
      "execution_count": 3,
      "outputs": []
    },
    {
      "cell_type": "code",
      "source": [
        "df=pd.DataFrame({'feature1':X[:,0],'feature2':X[:,1],'target':y})\n"
      ],
      "metadata": {
        "id": "n1_jwewJx0ya"
      },
      "execution_count": 4,
      "outputs": []
    },
    {
      "cell_type": "code",
      "source": [
        "df.head()"
      ],
      "metadata": {
        "colab": {
          "base_uri": "https://localhost:8080/",
          "height": 206
        },
        "id": "9hHJI1dLx28v",
        "outputId": "5042c326-c0da-4c28-f860-e1fdac7e2850"
      },
      "execution_count": 5,
      "outputs": [
        {
          "output_type": "execute_result",
          "data": {
            "text/plain": [
              "   feature1  feature2      target\n",
              "0 -1.017836  2.075764  157.475227\n",
              "1 -0.503686 -0.762871 -103.492638\n",
              "2  1.495366 -0.803203  -28.888590\n",
              "3  1.342676 -0.068523   86.987729\n",
              "4 -0.199053  1.025720   96.075264"
            ],
            "text/html": [
              "\n",
              "\n",
              "  <div id=\"df-7877aa1e-3ac8-4f8c-b165-0f96693429a3\">\n",
              "    <div class=\"colab-df-container\">\n",
              "      <div>\n",
              "<style scoped>\n",
              "    .dataframe tbody tr th:only-of-type {\n",
              "        vertical-align: middle;\n",
              "    }\n",
              "\n",
              "    .dataframe tbody tr th {\n",
              "        vertical-align: top;\n",
              "    }\n",
              "\n",
              "    .dataframe thead th {\n",
              "        text-align: right;\n",
              "    }\n",
              "</style>\n",
              "<table border=\"1\" class=\"dataframe\">\n",
              "  <thead>\n",
              "    <tr style=\"text-align: right;\">\n",
              "      <th></th>\n",
              "      <th>feature1</th>\n",
              "      <th>feature2</th>\n",
              "      <th>target</th>\n",
              "    </tr>\n",
              "  </thead>\n",
              "  <tbody>\n",
              "    <tr>\n",
              "      <th>0</th>\n",
              "      <td>-1.017836</td>\n",
              "      <td>2.075764</td>\n",
              "      <td>157.475227</td>\n",
              "    </tr>\n",
              "    <tr>\n",
              "      <th>1</th>\n",
              "      <td>-0.503686</td>\n",
              "      <td>-0.762871</td>\n",
              "      <td>-103.492638</td>\n",
              "    </tr>\n",
              "    <tr>\n",
              "      <th>2</th>\n",
              "      <td>1.495366</td>\n",
              "      <td>-0.803203</td>\n",
              "      <td>-28.888590</td>\n",
              "    </tr>\n",
              "    <tr>\n",
              "      <th>3</th>\n",
              "      <td>1.342676</td>\n",
              "      <td>-0.068523</td>\n",
              "      <td>86.987729</td>\n",
              "    </tr>\n",
              "    <tr>\n",
              "      <th>4</th>\n",
              "      <td>-0.199053</td>\n",
              "      <td>1.025720</td>\n",
              "      <td>96.075264</td>\n",
              "    </tr>\n",
              "  </tbody>\n",
              "</table>\n",
              "</div>\n",
              "      <button class=\"colab-df-convert\" onclick=\"convertToInteractive('df-7877aa1e-3ac8-4f8c-b165-0f96693429a3')\"\n",
              "              title=\"Convert this dataframe to an interactive table.\"\n",
              "              style=\"display:none;\">\n",
              "\n",
              "  <svg xmlns=\"http://www.w3.org/2000/svg\" height=\"24px\"viewBox=\"0 0 24 24\"\n",
              "       width=\"24px\">\n",
              "    <path d=\"M0 0h24v24H0V0z\" fill=\"none\"/>\n",
              "    <path d=\"M18.56 5.44l.94 2.06.94-2.06 2.06-.94-2.06-.94-.94-2.06-.94 2.06-2.06.94zm-11 1L8.5 8.5l.94-2.06 2.06-.94-2.06-.94L8.5 2.5l-.94 2.06-2.06.94zm10 10l.94 2.06.94-2.06 2.06-.94-2.06-.94-.94-2.06-.94 2.06-2.06.94z\"/><path d=\"M17.41 7.96l-1.37-1.37c-.4-.4-.92-.59-1.43-.59-.52 0-1.04.2-1.43.59L10.3 9.45l-7.72 7.72c-.78.78-.78 2.05 0 2.83L4 21.41c.39.39.9.59 1.41.59.51 0 1.02-.2 1.41-.59l7.78-7.78 2.81-2.81c.8-.78.8-2.07 0-2.86zM5.41 20L4 18.59l7.72-7.72 1.47 1.35L5.41 20z\"/>\n",
              "  </svg>\n",
              "      </button>\n",
              "\n",
              "\n",
              "\n",
              "    <div id=\"df-1ffaaa6a-051a-47d5-a597-0498d2dd3232\">\n",
              "      <button class=\"colab-df-quickchart\" onclick=\"quickchart('df-1ffaaa6a-051a-47d5-a597-0498d2dd3232')\"\n",
              "              title=\"Suggest charts.\"\n",
              "              style=\"display:none;\">\n",
              "\n",
              "<svg xmlns=\"http://www.w3.org/2000/svg\" height=\"24px\"viewBox=\"0 0 24 24\"\n",
              "     width=\"24px\">\n",
              "    <g>\n",
              "        <path d=\"M19 3H5c-1.1 0-2 .9-2 2v14c0 1.1.9 2 2 2h14c1.1 0 2-.9 2-2V5c0-1.1-.9-2-2-2zM9 17H7v-7h2v7zm4 0h-2V7h2v10zm4 0h-2v-4h2v4z\"/>\n",
              "    </g>\n",
              "</svg>\n",
              "      </button>\n",
              "    </div>\n",
              "\n",
              "<style>\n",
              "  .colab-df-quickchart {\n",
              "    background-color: #E8F0FE;\n",
              "    border: none;\n",
              "    border-radius: 50%;\n",
              "    cursor: pointer;\n",
              "    display: none;\n",
              "    fill: #1967D2;\n",
              "    height: 32px;\n",
              "    padding: 0 0 0 0;\n",
              "    width: 32px;\n",
              "  }\n",
              "\n",
              "  .colab-df-quickchart:hover {\n",
              "    background-color: #E2EBFA;\n",
              "    box-shadow: 0px 1px 2px rgba(60, 64, 67, 0.3), 0px 1px 3px 1px rgba(60, 64, 67, 0.15);\n",
              "    fill: #174EA6;\n",
              "  }\n",
              "\n",
              "  [theme=dark] .colab-df-quickchart {\n",
              "    background-color: #3B4455;\n",
              "    fill: #D2E3FC;\n",
              "  }\n",
              "\n",
              "  [theme=dark] .colab-df-quickchart:hover {\n",
              "    background-color: #434B5C;\n",
              "    box-shadow: 0px 1px 3px 1px rgba(0, 0, 0, 0.15);\n",
              "    filter: drop-shadow(0px 1px 2px rgba(0, 0, 0, 0.3));\n",
              "    fill: #FFFFFF;\n",
              "  }\n",
              "</style>\n",
              "\n",
              "    <script>\n",
              "      async function quickchart(key) {\n",
              "        const containerElement = document.querySelector('#' + key);\n",
              "        const charts = await google.colab.kernel.invokeFunction(\n",
              "            'suggestCharts', [key], {});\n",
              "      }\n",
              "    </script>\n",
              "\n",
              "      <script>\n",
              "\n",
              "function displayQuickchartButton(domScope) {\n",
              "  let quickchartButtonEl =\n",
              "    domScope.querySelector('#df-1ffaaa6a-051a-47d5-a597-0498d2dd3232 button.colab-df-quickchart');\n",
              "  quickchartButtonEl.style.display =\n",
              "    google.colab.kernel.accessAllowed ? 'block' : 'none';\n",
              "}\n",
              "\n",
              "        displayQuickchartButton(document);\n",
              "      </script>\n",
              "      <style>\n",
              "    .colab-df-container {\n",
              "      display:flex;\n",
              "      flex-wrap:wrap;\n",
              "      gap: 12px;\n",
              "    }\n",
              "\n",
              "    .colab-df-convert {\n",
              "      background-color: #E8F0FE;\n",
              "      border: none;\n",
              "      border-radius: 50%;\n",
              "      cursor: pointer;\n",
              "      display: none;\n",
              "      fill: #1967D2;\n",
              "      height: 32px;\n",
              "      padding: 0 0 0 0;\n",
              "      width: 32px;\n",
              "    }\n",
              "\n",
              "    .colab-df-convert:hover {\n",
              "      background-color: #E2EBFA;\n",
              "      box-shadow: 0px 1px 2px rgba(60, 64, 67, 0.3), 0px 1px 3px 1px rgba(60, 64, 67, 0.15);\n",
              "      fill: #174EA6;\n",
              "    }\n",
              "\n",
              "    [theme=dark] .colab-df-convert {\n",
              "      background-color: #3B4455;\n",
              "      fill: #D2E3FC;\n",
              "    }\n",
              "\n",
              "    [theme=dark] .colab-df-convert:hover {\n",
              "      background-color: #434B5C;\n",
              "      box-shadow: 0px 1px 3px 1px rgba(0, 0, 0, 0.15);\n",
              "      filter: drop-shadow(0px 1px 2px rgba(0, 0, 0, 0.3));\n",
              "      fill: #FFFFFF;\n",
              "    }\n",
              "  </style>\n",
              "\n",
              "      <script>\n",
              "        const buttonEl =\n",
              "          document.querySelector('#df-7877aa1e-3ac8-4f8c-b165-0f96693429a3 button.colab-df-convert');\n",
              "        buttonEl.style.display =\n",
              "          google.colab.kernel.accessAllowed ? 'block' : 'none';\n",
              "\n",
              "        async function convertToInteractive(key) {\n",
              "          const element = document.querySelector('#df-7877aa1e-3ac8-4f8c-b165-0f96693429a3');\n",
              "          const dataTable =\n",
              "            await google.colab.kernel.invokeFunction('convertToInteractive',\n",
              "                                                     [key], {});\n",
              "          if (!dataTable) return;\n",
              "\n",
              "          const docLinkHtml = 'Like what you see? Visit the ' +\n",
              "            '<a target=\"_blank\" href=https://colab.research.google.com/notebooks/data_table.ipynb>data table notebook</a>'\n",
              "            + ' to learn more about interactive tables.';\n",
              "          element.innerHTML = '';\n",
              "          dataTable['output_type'] = 'display_data';\n",
              "          await google.colab.output.renderOutput(dataTable, element);\n",
              "          const docLink = document.createElement('div');\n",
              "          docLink.innerHTML = docLinkHtml;\n",
              "          element.appendChild(docLink);\n",
              "        }\n",
              "      </script>\n",
              "    </div>\n",
              "  </div>\n"
            ]
          },
          "metadata": {},
          "execution_count": 5
        }
      ]
    },
    {
      "cell_type": "code",
      "source": [
        "fig=px.scatter_3d(df,x='feature1',y='feature2',z='target')\n",
        "fig.show()"
      ],
      "metadata": {
        "colab": {
          "base_uri": "https://localhost:8080/",
          "height": 542
        },
        "id": "Ep_RrHLWx383",
        "outputId": "e247d578-9aed-4707-9918-fe6decb782a3"
      },
      "execution_count": 6,
      "outputs": [
        {
          "output_type": "display_data",
          "data": {
            "text/html": [
              "<html>\n",
              "<head><meta charset=\"utf-8\" /></head>\n",
              "<body>\n",
              "    <div>            <script src=\"https://cdnjs.cloudflare.com/ajax/libs/mathjax/2.7.5/MathJax.js?config=TeX-AMS-MML_SVG\"></script><script type=\"text/javascript\">if (window.MathJax && window.MathJax.Hub && window.MathJax.Hub.Config) {window.MathJax.Hub.Config({SVG: {font: \"STIX-Web\"}});}</script>                <script type=\"text/javascript\">window.PlotlyConfig = {MathJaxConfig: 'local'};</script>\n",
              "        <script charset=\"utf-8\" src=\"https://cdn.plot.ly/plotly-2.24.1.min.js\"></script>                <div id=\"7dd4863c-de26-44ee-b01e-5c3f00c7f00b\" class=\"plotly-graph-div\" style=\"height:525px; width:100%;\"></div>            <script type=\"text/javascript\">                                    window.PLOTLYENV=window.PLOTLYENV || {};                                    if (document.getElementById(\"7dd4863c-de26-44ee-b01e-5c3f00c7f00b\")) {                    Plotly.newPlot(                        \"7dd4863c-de26-44ee-b01e-5c3f00c7f00b\",                        [{\"hovertemplate\":\"feature1=%{x}\\u003cbr\\u003efeature2=%{y}\\u003cbr\\u003etarget=%{z}\\u003cextra\\u003e\\u003c\\u002fextra\\u003e\",\"legendgroup\":\"\",\"marker\":{\"color\":\"#636efa\",\"symbol\":\"circle\"},\"mode\":\"markers\",\"name\":\"\",\"scene\":\"scene\",\"showlegend\":false,\"x\":[-1.0178359241981711,-0.5036862989849847,1.4953659650368918,1.3426758399538266,-0.1990534659232867,-0.446921867752928,-0.7128242704855802,0.6139400473763702,0.3035636473598284,0.07616605449941388,0.46633721371607095,0.31253988255303644,0.2560234151746482,-0.4557234632179151,-0.26552892417042545,0.3475456395994409,0.892286534026454,0.2975678716812443,-0.7811258317646266,0.8777285518241107,0.04733598740968453,1.2519032727325643,0.10001852141975366,-0.14894311110234468,1.645722123584355,-0.4092697042082197,-0.13113872808320717,-0.3469137128263053,-0.8853708634107518,-0.6134588516420859,-0.6384468665624236,1.0750193609249823,0.6598337135098292,0.2316783894913185,0.1495706500008616,-0.7808398186495464,-1.0857829605601026,-0.1749696597988465,1.606685521142791,0.42614721913704884,0.3104224146900365,-0.08333983127390078,-0.47762194942215,-1.1325630943732254,0.7279561082742055,0.1518116073962243,0.9709602450390838,-2.2674177736455032,1.430223466260204,1.0798610282553476,-0.49956143434161016,1.1753736719312438,1.0187634753310895,1.6150689636707172,-1.2650923159473388,0.5558563510056695,-1.2991933693994635,-0.05273627394097685,-0.30813316091370574,0.023088484560905932,1.2709067287395908,-1.5584345639332484,0.963819686021925,-1.4872181264165198,0.6884926035550188,0.6691840827560587,0.6717295731495511,1.5136642770370927,-0.7121965298926329,0.3595550602426141,1.124734967159108,0.853075231382418,0.5439498962332233,0.3337504289004572,-0.607790514615441,-0.8604183485254167,0.11907277108682617,0.027165901859067965,-0.20733137311314725,-0.9250896426914305,-0.37823002594934413,1.5493218490677256,-0.604792229905902,0.30547953208273954,-0.016882308142395653,-0.5633994640597544,-0.5684115576794446,1.9352063904331003,-0.5454441680695612,2.2629422011511373,1.4505307879191813,1.1230407503490734,-0.05630502359923731,-1.5009325828318845,-0.2988348971804011,-1.4732180110793234,-0.11415773667243569,-1.5041162741067133,0.7272538790299381,-1.248959412660151],\"y\":[2.0757640620505677,-0.7628708143262852,-0.8032029184560971,-0.0685225250898229,1.0257203805108062,0.4052099872909514,-0.8524731518797382,-0.9970523963337806,-0.24760449011139302,-0.12779054585464444,-0.36636570782821143,1.6746135755917053,1.2363987603374396,-1.0654157402208002,-1.2348774801772882,-2.556319003123823,2.6539957458123467,-1.0111380430256172,-2.273508835938736,0.03570074244684884,-1.1581522014683765,0.5576694224230188,-2.5073765772686287,-0.5839033115041926,-1.9281717915865526,0.016634622426091924,0.9264433100682371,-0.05828426994613153,-1.8108105409179547,1.2985714332720886,-0.22926519786477798,-0.2893632338093144,0.8526022214521829,-1.236669805444274,-0.06403306145533341,0.29517337883724454,-0.3604086735720107,0.6646830117111688,-1.509845494819159,-0.4812977170181882,-0.15244695407554032,0.13677309120839048,0.5756285026434234,0.8211194561132371,-1.021060903742234,-1.0143566008929192,-1.8016156755416253,-0.2859937744949376,-0.36736330653797894,-0.3187051267584474,1.2350060852152929,0.8425064933845546,-1.3180661130761175,-0.1586845110175998,0.251795870526482,1.0172880721248219,1.0030544545169497,-0.27708207052633826,1.4079185109950665,-0.8484242520476066,0.9136517529855244,-0.32440391947894126,0.16422672840018293,0.3200377799576402,1.6502134184887278,0.5378014130749076,-0.7042757348888713,0.0007261600330815427,2.16997824737085,-0.8725094769913738,-1.878688557005862,-0.5428908001174662,0.5779550536398687,0.04826021827799214,-0.2436652513521843,-0.5129719839873548,0.6194874030357109,0.07846799452002691,2.378028412616421,-1.0137731537399135,-0.2864206802350591,-0.44642570607140164,-0.13875391846953833,-1.1256925409141372,1.0632102595206392,0.512383359783703,-0.8152483526700439,-1.3092534886118672,-1.4554874001893552,0.4642857899853191,0.32017295420718533,-0.2694094541788255,0.33140769031404654,-0.8955922326573624,0.24450735528856402,0.8095661656450409,-1.1448336999408872,1.0041490692528503,-1.812558643174803,1.1019838542713625],\"z\":[157.475226551448,-103.49263753422153,-28.888590321166912,86.9877285443967,96.075264099734,4.929764503540717,-91.33564435048436,-57.23213188014656,-28.045264389966352,82.19100325876569,36.28512545218759,125.34566904761937,119.04768654799808,-133.45706457310737,-30.71510622333065,-302.36735987919815,314.5007510597149,-51.79468697428007,-221.67948797570614,3.8589062144838167,-183.35740682174213,90.31987938162486,-299.1383793124245,-128.61297520154898,-43.439562084819336,7.4935142275871485,47.627574969103485,-88.97557825009584,-256.1734454248524,111.42142205308228,-12.373093441087839,36.99994644278958,44.86576800184906,-38.91994675992726,36.78857422580941,42.97236340507202,17.451056679966342,-5.971561082164911,-116.10676576568191,2.1686845334169256,-32.26493146447707,40.910102826649194,-25.463680024062615,15.369762387944265,-33.665853586058994,-147.84198302887603,-137.73198652130412,-143.5220085884537,109.55202945690849,89.01802368354689,170.1625181652862,101.21325033086039,31.703646935446457,36.63429080018907,-58.426526881047835,240.17939475482288,5.079566741047529,-20.622011095279927,158.9488095403114,-60.60950888516571,183.97453998013648,-103.88355478453073,65.89626831542436,-31.51418069804653,102.52651451408825,61.63176033333112,-38.96374040934927,52.995143168826544,147.6108166300899,-11.399000659925797,-152.88185982694722,-57.091285016028394,39.91044905532364,83.48841181372067,-15.713746572098223,-89.70930581824935,62.0628699312358,-21.226771728183905,178.13409453126206,-84.33499065924443,0.4394394038312939,50.70795245162328,-45.51047695609484,-12.645197218595541,132.72299605610655,122.83495082575251,-146.2023340746258,-87.42045943267945,-215.58731316759832,233.55135286618224,26.889314939242965,50.27057952390119,54.06730448629655,-185.02869837194987,50.32669442375456,10.492713384678858,-124.24026057243226,88.90269784200188,-189.27861321823985,105.57249055906664],\"type\":\"scatter3d\"}],                        {\"template\":{\"data\":{\"histogram2dcontour\":[{\"type\":\"histogram2dcontour\",\"colorbar\":{\"outlinewidth\":0,\"ticks\":\"\"},\"colorscale\":[[0.0,\"#0d0887\"],[0.1111111111111111,\"#46039f\"],[0.2222222222222222,\"#7201a8\"],[0.3333333333333333,\"#9c179e\"],[0.4444444444444444,\"#bd3786\"],[0.5555555555555556,\"#d8576b\"],[0.6666666666666666,\"#ed7953\"],[0.7777777777777778,\"#fb9f3a\"],[0.8888888888888888,\"#fdca26\"],[1.0,\"#f0f921\"]]}],\"choropleth\":[{\"type\":\"choropleth\",\"colorbar\":{\"outlinewidth\":0,\"ticks\":\"\"}}],\"histogram2d\":[{\"type\":\"histogram2d\",\"colorbar\":{\"outlinewidth\":0,\"ticks\":\"\"},\"colorscale\":[[0.0,\"#0d0887\"],[0.1111111111111111,\"#46039f\"],[0.2222222222222222,\"#7201a8\"],[0.3333333333333333,\"#9c179e\"],[0.4444444444444444,\"#bd3786\"],[0.5555555555555556,\"#d8576b\"],[0.6666666666666666,\"#ed7953\"],[0.7777777777777778,\"#fb9f3a\"],[0.8888888888888888,\"#fdca26\"],[1.0,\"#f0f921\"]]}],\"heatmap\":[{\"type\":\"heatmap\",\"colorbar\":{\"outlinewidth\":0,\"ticks\":\"\"},\"colorscale\":[[0.0,\"#0d0887\"],[0.1111111111111111,\"#46039f\"],[0.2222222222222222,\"#7201a8\"],[0.3333333333333333,\"#9c179e\"],[0.4444444444444444,\"#bd3786\"],[0.5555555555555556,\"#d8576b\"],[0.6666666666666666,\"#ed7953\"],[0.7777777777777778,\"#fb9f3a\"],[0.8888888888888888,\"#fdca26\"],[1.0,\"#f0f921\"]]}],\"heatmapgl\":[{\"type\":\"heatmapgl\",\"colorbar\":{\"outlinewidth\":0,\"ticks\":\"\"},\"colorscale\":[[0.0,\"#0d0887\"],[0.1111111111111111,\"#46039f\"],[0.2222222222222222,\"#7201a8\"],[0.3333333333333333,\"#9c179e\"],[0.4444444444444444,\"#bd3786\"],[0.5555555555555556,\"#d8576b\"],[0.6666666666666666,\"#ed7953\"],[0.7777777777777778,\"#fb9f3a\"],[0.8888888888888888,\"#fdca26\"],[1.0,\"#f0f921\"]]}],\"contourcarpet\":[{\"type\":\"contourcarpet\",\"colorbar\":{\"outlinewidth\":0,\"ticks\":\"\"}}],\"contour\":[{\"type\":\"contour\",\"colorbar\":{\"outlinewidth\":0,\"ticks\":\"\"},\"colorscale\":[[0.0,\"#0d0887\"],[0.1111111111111111,\"#46039f\"],[0.2222222222222222,\"#7201a8\"],[0.3333333333333333,\"#9c179e\"],[0.4444444444444444,\"#bd3786\"],[0.5555555555555556,\"#d8576b\"],[0.6666666666666666,\"#ed7953\"],[0.7777777777777778,\"#fb9f3a\"],[0.8888888888888888,\"#fdca26\"],[1.0,\"#f0f921\"]]}],\"surface\":[{\"type\":\"surface\",\"colorbar\":{\"outlinewidth\":0,\"ticks\":\"\"},\"colorscale\":[[0.0,\"#0d0887\"],[0.1111111111111111,\"#46039f\"],[0.2222222222222222,\"#7201a8\"],[0.3333333333333333,\"#9c179e\"],[0.4444444444444444,\"#bd3786\"],[0.5555555555555556,\"#d8576b\"],[0.6666666666666666,\"#ed7953\"],[0.7777777777777778,\"#fb9f3a\"],[0.8888888888888888,\"#fdca26\"],[1.0,\"#f0f921\"]]}],\"mesh3d\":[{\"type\":\"mesh3d\",\"colorbar\":{\"outlinewidth\":0,\"ticks\":\"\"}}],\"scatter\":[{\"fillpattern\":{\"fillmode\":\"overlay\",\"size\":10,\"solidity\":0.2},\"type\":\"scatter\"}],\"parcoords\":[{\"type\":\"parcoords\",\"line\":{\"colorbar\":{\"outlinewidth\":0,\"ticks\":\"\"}}}],\"scatterpolargl\":[{\"type\":\"scatterpolargl\",\"marker\":{\"colorbar\":{\"outlinewidth\":0,\"ticks\":\"\"}}}],\"bar\":[{\"error_x\":{\"color\":\"#2a3f5f\"},\"error_y\":{\"color\":\"#2a3f5f\"},\"marker\":{\"line\":{\"color\":\"#E5ECF6\",\"width\":0.5},\"pattern\":{\"fillmode\":\"overlay\",\"size\":10,\"solidity\":0.2}},\"type\":\"bar\"}],\"scattergeo\":[{\"type\":\"scattergeo\",\"marker\":{\"colorbar\":{\"outlinewidth\":0,\"ticks\":\"\"}}}],\"scatterpolar\":[{\"type\":\"scatterpolar\",\"marker\":{\"colorbar\":{\"outlinewidth\":0,\"ticks\":\"\"}}}],\"histogram\":[{\"marker\":{\"pattern\":{\"fillmode\":\"overlay\",\"size\":10,\"solidity\":0.2}},\"type\":\"histogram\"}],\"scattergl\":[{\"type\":\"scattergl\",\"marker\":{\"colorbar\":{\"outlinewidth\":0,\"ticks\":\"\"}}}],\"scatter3d\":[{\"type\":\"scatter3d\",\"line\":{\"colorbar\":{\"outlinewidth\":0,\"ticks\":\"\"}},\"marker\":{\"colorbar\":{\"outlinewidth\":0,\"ticks\":\"\"}}}],\"scattermapbox\":[{\"type\":\"scattermapbox\",\"marker\":{\"colorbar\":{\"outlinewidth\":0,\"ticks\":\"\"}}}],\"scatterternary\":[{\"type\":\"scatterternary\",\"marker\":{\"colorbar\":{\"outlinewidth\":0,\"ticks\":\"\"}}}],\"scattercarpet\":[{\"type\":\"scattercarpet\",\"marker\":{\"colorbar\":{\"outlinewidth\":0,\"ticks\":\"\"}}}],\"carpet\":[{\"aaxis\":{\"endlinecolor\":\"#2a3f5f\",\"gridcolor\":\"white\",\"linecolor\":\"white\",\"minorgridcolor\":\"white\",\"startlinecolor\":\"#2a3f5f\"},\"baxis\":{\"endlinecolor\":\"#2a3f5f\",\"gridcolor\":\"white\",\"linecolor\":\"white\",\"minorgridcolor\":\"white\",\"startlinecolor\":\"#2a3f5f\"},\"type\":\"carpet\"}],\"table\":[{\"cells\":{\"fill\":{\"color\":\"#EBF0F8\"},\"line\":{\"color\":\"white\"}},\"header\":{\"fill\":{\"color\":\"#C8D4E3\"},\"line\":{\"color\":\"white\"}},\"type\":\"table\"}],\"barpolar\":[{\"marker\":{\"line\":{\"color\":\"#E5ECF6\",\"width\":0.5},\"pattern\":{\"fillmode\":\"overlay\",\"size\":10,\"solidity\":0.2}},\"type\":\"barpolar\"}],\"pie\":[{\"automargin\":true,\"type\":\"pie\"}]},\"layout\":{\"autotypenumbers\":\"strict\",\"colorway\":[\"#636efa\",\"#EF553B\",\"#00cc96\",\"#ab63fa\",\"#FFA15A\",\"#19d3f3\",\"#FF6692\",\"#B6E880\",\"#FF97FF\",\"#FECB52\"],\"font\":{\"color\":\"#2a3f5f\"},\"hovermode\":\"closest\",\"hoverlabel\":{\"align\":\"left\"},\"paper_bgcolor\":\"white\",\"plot_bgcolor\":\"#E5ECF6\",\"polar\":{\"bgcolor\":\"#E5ECF6\",\"angularaxis\":{\"gridcolor\":\"white\",\"linecolor\":\"white\",\"ticks\":\"\"},\"radialaxis\":{\"gridcolor\":\"white\",\"linecolor\":\"white\",\"ticks\":\"\"}},\"ternary\":{\"bgcolor\":\"#E5ECF6\",\"aaxis\":{\"gridcolor\":\"white\",\"linecolor\":\"white\",\"ticks\":\"\"},\"baxis\":{\"gridcolor\":\"white\",\"linecolor\":\"white\",\"ticks\":\"\"},\"caxis\":{\"gridcolor\":\"white\",\"linecolor\":\"white\",\"ticks\":\"\"}},\"coloraxis\":{\"colorbar\":{\"outlinewidth\":0,\"ticks\":\"\"}},\"colorscale\":{\"sequential\":[[0.0,\"#0d0887\"],[0.1111111111111111,\"#46039f\"],[0.2222222222222222,\"#7201a8\"],[0.3333333333333333,\"#9c179e\"],[0.4444444444444444,\"#bd3786\"],[0.5555555555555556,\"#d8576b\"],[0.6666666666666666,\"#ed7953\"],[0.7777777777777778,\"#fb9f3a\"],[0.8888888888888888,\"#fdca26\"],[1.0,\"#f0f921\"]],\"sequentialminus\":[[0.0,\"#0d0887\"],[0.1111111111111111,\"#46039f\"],[0.2222222222222222,\"#7201a8\"],[0.3333333333333333,\"#9c179e\"],[0.4444444444444444,\"#bd3786\"],[0.5555555555555556,\"#d8576b\"],[0.6666666666666666,\"#ed7953\"],[0.7777777777777778,\"#fb9f3a\"],[0.8888888888888888,\"#fdca26\"],[1.0,\"#f0f921\"]],\"diverging\":[[0,\"#8e0152\"],[0.1,\"#c51b7d\"],[0.2,\"#de77ae\"],[0.3,\"#f1b6da\"],[0.4,\"#fde0ef\"],[0.5,\"#f7f7f7\"],[0.6,\"#e6f5d0\"],[0.7,\"#b8e186\"],[0.8,\"#7fbc41\"],[0.9,\"#4d9221\"],[1,\"#276419\"]]},\"xaxis\":{\"gridcolor\":\"white\",\"linecolor\":\"white\",\"ticks\":\"\",\"title\":{\"standoff\":15},\"zerolinecolor\":\"white\",\"automargin\":true,\"zerolinewidth\":2},\"yaxis\":{\"gridcolor\":\"white\",\"linecolor\":\"white\",\"ticks\":\"\",\"title\":{\"standoff\":15},\"zerolinecolor\":\"white\",\"automargin\":true,\"zerolinewidth\":2},\"scene\":{\"xaxis\":{\"backgroundcolor\":\"#E5ECF6\",\"gridcolor\":\"white\",\"linecolor\":\"white\",\"showbackground\":true,\"ticks\":\"\",\"zerolinecolor\":\"white\",\"gridwidth\":2},\"yaxis\":{\"backgroundcolor\":\"#E5ECF6\",\"gridcolor\":\"white\",\"linecolor\":\"white\",\"showbackground\":true,\"ticks\":\"\",\"zerolinecolor\":\"white\",\"gridwidth\":2},\"zaxis\":{\"backgroundcolor\":\"#E5ECF6\",\"gridcolor\":\"white\",\"linecolor\":\"white\",\"showbackground\":true,\"ticks\":\"\",\"zerolinecolor\":\"white\",\"gridwidth\":2}},\"shapedefaults\":{\"line\":{\"color\":\"#2a3f5f\"}},\"annotationdefaults\":{\"arrowcolor\":\"#2a3f5f\",\"arrowhead\":0,\"arrowwidth\":1},\"geo\":{\"bgcolor\":\"white\",\"landcolor\":\"#E5ECF6\",\"subunitcolor\":\"white\",\"showland\":true,\"showlakes\":true,\"lakecolor\":\"white\"},\"title\":{\"x\":0.05},\"mapbox\":{\"style\":\"light\"}}},\"scene\":{\"domain\":{\"x\":[0.0,1.0],\"y\":[0.0,1.0]},\"xaxis\":{\"title\":{\"text\":\"feature1\"}},\"yaxis\":{\"title\":{\"text\":\"feature2\"}},\"zaxis\":{\"title\":{\"text\":\"target\"}}},\"legend\":{\"tracegroupgap\":0},\"margin\":{\"t\":60}},                        {\"responsive\": true}                    ).then(function(){\n",
              "                            \n",
              "var gd = document.getElementById('7dd4863c-de26-44ee-b01e-5c3f00c7f00b');\n",
              "var x = new MutationObserver(function (mutations, observer) {{\n",
              "        var display = window.getComputedStyle(gd).display;\n",
              "        if (!display || display === 'none') {{\n",
              "            console.log([gd, 'removed!']);\n",
              "            Plotly.purge(gd);\n",
              "            observer.disconnect();\n",
              "        }}\n",
              "}});\n",
              "\n",
              "// Listen for the removal of the full notebook cells\n",
              "var notebookContainer = gd.closest('#notebook-container');\n",
              "if (notebookContainer) {{\n",
              "    x.observe(notebookContainer, {childList: true});\n",
              "}}\n",
              "\n",
              "// Listen for the clearing of the current output cell\n",
              "var outputEl = gd.closest('.output');\n",
              "if (outputEl) {{\n",
              "    x.observe(outputEl, {childList: true});\n",
              "}}\n",
              "\n",
              "                        })                };                            </script>        </div>\n",
              "</body>\n",
              "</html>"
            ]
          },
          "metadata": {}
        }
      ]
    },
    {
      "cell_type": "markdown",
      "source": [
        "#draw a sheet around it"
      ],
      "metadata": {
        "id": "_TRtZwZ_yF3c"
      }
    },
    {
      "cell_type": "code",
      "source": [
        "from sklearn.model_selection import train_test_split\n",
        "X_train,X_test,y_train,y_test=train_test_split(X,y,test_size=0.2,random_state=3)"
      ],
      "metadata": {
        "id": "BFoEfZKux6XO"
      },
      "execution_count": 7,
      "outputs": []
    },
    {
      "cell_type": "code",
      "source": [
        "from sklearn.linear_model import LinearRegression"
      ],
      "metadata": {
        "id": "usLZV7oXyV6c"
      },
      "execution_count": 8,
      "outputs": []
    },
    {
      "cell_type": "code",
      "source": [
        "lr=LinearRegression()"
      ],
      "metadata": {
        "id": "Y9c2zWzoybXt"
      },
      "execution_count": 9,
      "outputs": []
    },
    {
      "cell_type": "code",
      "source": [
        "lr.fit(X_train,y_train)"
      ],
      "metadata": {
        "colab": {
          "base_uri": "https://localhost:8080/",
          "height": 74
        },
        "id": "wyiLsSU2ydnf",
        "outputId": "8469e6bb-3bef-4923-aeb7-b20772a58f50"
      },
      "execution_count": 10,
      "outputs": [
        {
          "output_type": "execute_result",
          "data": {
            "text/plain": [
              "LinearRegression()"
            ],
            "text/html": [
              "<style>#sk-container-id-1 {color: black;background-color: white;}#sk-container-id-1 pre{padding: 0;}#sk-container-id-1 div.sk-toggleable {background-color: white;}#sk-container-id-1 label.sk-toggleable__label {cursor: pointer;display: block;width: 100%;margin-bottom: 0;padding: 0.3em;box-sizing: border-box;text-align: center;}#sk-container-id-1 label.sk-toggleable__label-arrow:before {content: \"▸\";float: left;margin-right: 0.25em;color: #696969;}#sk-container-id-1 label.sk-toggleable__label-arrow:hover:before {color: black;}#sk-container-id-1 div.sk-estimator:hover label.sk-toggleable__label-arrow:before {color: black;}#sk-container-id-1 div.sk-toggleable__content {max-height: 0;max-width: 0;overflow: hidden;text-align: left;background-color: #f0f8ff;}#sk-container-id-1 div.sk-toggleable__content pre {margin: 0.2em;color: black;border-radius: 0.25em;background-color: #f0f8ff;}#sk-container-id-1 input.sk-toggleable__control:checked~div.sk-toggleable__content {max-height: 200px;max-width: 100%;overflow: auto;}#sk-container-id-1 input.sk-toggleable__control:checked~label.sk-toggleable__label-arrow:before {content: \"▾\";}#sk-container-id-1 div.sk-estimator input.sk-toggleable__control:checked~label.sk-toggleable__label {background-color: #d4ebff;}#sk-container-id-1 div.sk-label input.sk-toggleable__control:checked~label.sk-toggleable__label {background-color: #d4ebff;}#sk-container-id-1 input.sk-hidden--visually {border: 0;clip: rect(1px 1px 1px 1px);clip: rect(1px, 1px, 1px, 1px);height: 1px;margin: -1px;overflow: hidden;padding: 0;position: absolute;width: 1px;}#sk-container-id-1 div.sk-estimator {font-family: monospace;background-color: #f0f8ff;border: 1px dotted black;border-radius: 0.25em;box-sizing: border-box;margin-bottom: 0.5em;}#sk-container-id-1 div.sk-estimator:hover {background-color: #d4ebff;}#sk-container-id-1 div.sk-parallel-item::after {content: \"\";width: 100%;border-bottom: 1px solid gray;flex-grow: 1;}#sk-container-id-1 div.sk-label:hover label.sk-toggleable__label {background-color: #d4ebff;}#sk-container-id-1 div.sk-serial::before {content: \"\";position: absolute;border-left: 1px solid gray;box-sizing: border-box;top: 0;bottom: 0;left: 50%;z-index: 0;}#sk-container-id-1 div.sk-serial {display: flex;flex-direction: column;align-items: center;background-color: white;padding-right: 0.2em;padding-left: 0.2em;position: relative;}#sk-container-id-1 div.sk-item {position: relative;z-index: 1;}#sk-container-id-1 div.sk-parallel {display: flex;align-items: stretch;justify-content: center;background-color: white;position: relative;}#sk-container-id-1 div.sk-item::before, #sk-container-id-1 div.sk-parallel-item::before {content: \"\";position: absolute;border-left: 1px solid gray;box-sizing: border-box;top: 0;bottom: 0;left: 50%;z-index: -1;}#sk-container-id-1 div.sk-parallel-item {display: flex;flex-direction: column;z-index: 1;position: relative;background-color: white;}#sk-container-id-1 div.sk-parallel-item:first-child::after {align-self: flex-end;width: 50%;}#sk-container-id-1 div.sk-parallel-item:last-child::after {align-self: flex-start;width: 50%;}#sk-container-id-1 div.sk-parallel-item:only-child::after {width: 0;}#sk-container-id-1 div.sk-dashed-wrapped {border: 1px dashed gray;margin: 0 0.4em 0.5em 0.4em;box-sizing: border-box;padding-bottom: 0.4em;background-color: white;}#sk-container-id-1 div.sk-label label {font-family: monospace;font-weight: bold;display: inline-block;line-height: 1.2em;}#sk-container-id-1 div.sk-label-container {text-align: center;}#sk-container-id-1 div.sk-container {/* jupyter's `normalize.less` sets `[hidden] { display: none; }` but bootstrap.min.css set `[hidden] { display: none !important; }` so we also need the `!important` here to be able to override the default hidden behavior on the sphinx rendered scikit-learn.org. See: https://github.com/scikit-learn/scikit-learn/issues/21755 */display: inline-block !important;position: relative;}#sk-container-id-1 div.sk-text-repr-fallback {display: none;}</style><div id=\"sk-container-id-1\" class=\"sk-top-container\"><div class=\"sk-text-repr-fallback\"><pre>LinearRegression()</pre><b>In a Jupyter environment, please rerun this cell to show the HTML representation or trust the notebook. <br />On GitHub, the HTML representation is unable to render, please try loading this page with nbviewer.org.</b></div><div class=\"sk-container\" hidden><div class=\"sk-item\"><div class=\"sk-estimator sk-toggleable\"><input class=\"sk-toggleable__control sk-hidden--visually\" id=\"sk-estimator-id-1\" type=\"checkbox\" checked><label for=\"sk-estimator-id-1\" class=\"sk-toggleable__label sk-toggleable__label-arrow\">LinearRegression</label><div class=\"sk-toggleable__content\"><pre>LinearRegression()</pre></div></div></div></div></div>"
            ]
          },
          "metadata": {},
          "execution_count": 10
        }
      ]
    },
    {
      "cell_type": "code",
      "source": [
        "y_pred=lr.predict(X_test)"
      ],
      "metadata": {
        "id": "G7793ylCyggF"
      },
      "execution_count": 11,
      "outputs": []
    },
    {
      "cell_type": "code",
      "source": [
        "print(\"mae\",mean_absolute_error(y_test,y_pred))\n",
        "print(\"mse\",mean_squared_error(y_test,y_pred))\n",
        "print(\"r2\",r2_score(y_test,y_pred))\n"
      ],
      "metadata": {
        "colab": {
          "base_uri": "https://localhost:8080/"
        },
        "id": "cGlyFwkByj69",
        "outputId": "0c98844e-2010-476b-f5ef-b6153e72cdbc"
      },
      "execution_count": 12,
      "outputs": [
        {
          "output_type": "stream",
          "name": "stdout",
          "text": [
            "mae 46.28056266318303\n",
            "mse 2896.995981007932\n",
            "r2 0.7237691764723294\n"
          ]
        }
      ]
    },
    {
      "cell_type": "markdown",
      "source": [
        "#plot the best plane\n"
      ],
      "metadata": {
        "id": "FyiIRe2Gy-HI"
      }
    },
    {
      "cell_type": "code",
      "source": [
        "a, b = lr.coef_\n",
        "c = lr.intercept_\n",
        "\n",
        "# Create a meshgrid of x and y values\n",
        "x_range = np.linspace(df['feature1'].min(), df['feature1'].max(), 10)\n",
        "y_range = np.linspace(df['feature2'].min(), df['feature2'].max(), 10)\n",
        "x_mesh, y_mesh = np.meshgrid(x_range, y_range)\n",
        "\n",
        "# Calculate corresponding z values using the plane equation\n",
        "z_mesh = a * x_mesh + b * y_mesh + c\n",
        "\n",
        "# Create a 3D surface plot of the best fit plane\n",
        "surface = go.Surface(x=x_mesh, y=y_mesh, z=z_mesh, colorscale='Viridis')\n",
        "\n",
        "# Add the surface plot to the existing scatter plot\n",
        "fig.add_trace(surface)\n",
        "\n",
        "# Show the updated figure with the best fit plane\n",
        "fig.show()"
      ],
      "metadata": {
        "colab": {
          "base_uri": "https://localhost:8080/",
          "height": 542
        },
        "id": "6HXdAhrHy4iK",
        "outputId": "6b0869b7-444f-4eb0-e60f-41c4bf5a78be"
      },
      "execution_count": 14,
      "outputs": [
        {
          "output_type": "display_data",
          "data": {
            "text/html": [
              "<html>\n",
              "<head><meta charset=\"utf-8\" /></head>\n",
              "<body>\n",
              "    <div>            <script src=\"https://cdnjs.cloudflare.com/ajax/libs/mathjax/2.7.5/MathJax.js?config=TeX-AMS-MML_SVG\"></script><script type=\"text/javascript\">if (window.MathJax && window.MathJax.Hub && window.MathJax.Hub.Config) {window.MathJax.Hub.Config({SVG: {font: \"STIX-Web\"}});}</script>                <script type=\"text/javascript\">window.PlotlyConfig = {MathJaxConfig: 'local'};</script>\n",
              "        <script charset=\"utf-8\" src=\"https://cdn.plot.ly/plotly-2.24.1.min.js\"></script>                <div id=\"be4b4139-5265-423f-9b44-93fbfdf8f6db\" class=\"plotly-graph-div\" style=\"height:525px; width:100%;\"></div>            <script type=\"text/javascript\">                                    window.PLOTLYENV=window.PLOTLYENV || {};                                    if (document.getElementById(\"be4b4139-5265-423f-9b44-93fbfdf8f6db\")) {                    Plotly.newPlot(                        \"be4b4139-5265-423f-9b44-93fbfdf8f6db\",                        [{\"hovertemplate\":\"feature1=%{x}\\u003cbr\\u003efeature2=%{y}\\u003cbr\\u003etarget=%{z}\\u003cextra\\u003e\\u003c\\u002fextra\\u003e\",\"legendgroup\":\"\",\"marker\":{\"color\":\"#636efa\",\"symbol\":\"circle\"},\"mode\":\"markers\",\"name\":\"\",\"scene\":\"scene\",\"showlegend\":false,\"x\":[-1.0178359241981711,-0.5036862989849847,1.4953659650368918,1.3426758399538266,-0.1990534659232867,-0.446921867752928,-0.7128242704855802,0.6139400473763702,0.3035636473598284,0.07616605449941388,0.46633721371607095,0.31253988255303644,0.2560234151746482,-0.4557234632179151,-0.26552892417042545,0.3475456395994409,0.892286534026454,0.2975678716812443,-0.7811258317646266,0.8777285518241107,0.04733598740968453,1.2519032727325643,0.10001852141975366,-0.14894311110234468,1.645722123584355,-0.4092697042082197,-0.13113872808320717,-0.3469137128263053,-0.8853708634107518,-0.6134588516420859,-0.6384468665624236,1.0750193609249823,0.6598337135098292,0.2316783894913185,0.1495706500008616,-0.7808398186495464,-1.0857829605601026,-0.1749696597988465,1.606685521142791,0.42614721913704884,0.3104224146900365,-0.08333983127390078,-0.47762194942215,-1.1325630943732254,0.7279561082742055,0.1518116073962243,0.9709602450390838,-2.2674177736455032,1.430223466260204,1.0798610282553476,-0.49956143434161016,1.1753736719312438,1.0187634753310895,1.6150689636707172,-1.2650923159473388,0.5558563510056695,-1.2991933693994635,-0.05273627394097685,-0.30813316091370574,0.023088484560905932,1.2709067287395908,-1.5584345639332484,0.963819686021925,-1.4872181264165198,0.6884926035550188,0.6691840827560587,0.6717295731495511,1.5136642770370927,-0.7121965298926329,0.3595550602426141,1.124734967159108,0.853075231382418,0.5439498962332233,0.3337504289004572,-0.607790514615441,-0.8604183485254167,0.11907277108682617,0.027165901859067965,-0.20733137311314725,-0.9250896426914305,-0.37823002594934413,1.5493218490677256,-0.604792229905902,0.30547953208273954,-0.016882308142395653,-0.5633994640597544,-0.5684115576794446,1.9352063904331003,-0.5454441680695612,2.2629422011511373,1.4505307879191813,1.1230407503490734,-0.05630502359923731,-1.5009325828318845,-0.2988348971804011,-1.4732180110793234,-0.11415773667243569,-1.5041162741067133,0.7272538790299381,-1.248959412660151],\"y\":[2.0757640620505677,-0.7628708143262852,-0.8032029184560971,-0.0685225250898229,1.0257203805108062,0.4052099872909514,-0.8524731518797382,-0.9970523963337806,-0.24760449011139302,-0.12779054585464444,-0.36636570782821143,1.6746135755917053,1.2363987603374396,-1.0654157402208002,-1.2348774801772882,-2.556319003123823,2.6539957458123467,-1.0111380430256172,-2.273508835938736,0.03570074244684884,-1.1581522014683765,0.5576694224230188,-2.5073765772686287,-0.5839033115041926,-1.9281717915865526,0.016634622426091924,0.9264433100682371,-0.05828426994613153,-1.8108105409179547,1.2985714332720886,-0.22926519786477798,-0.2893632338093144,0.8526022214521829,-1.236669805444274,-0.06403306145533341,0.29517337883724454,-0.3604086735720107,0.6646830117111688,-1.509845494819159,-0.4812977170181882,-0.15244695407554032,0.13677309120839048,0.5756285026434234,0.8211194561132371,-1.021060903742234,-1.0143566008929192,-1.8016156755416253,-0.2859937744949376,-0.36736330653797894,-0.3187051267584474,1.2350060852152929,0.8425064933845546,-1.3180661130761175,-0.1586845110175998,0.251795870526482,1.0172880721248219,1.0030544545169497,-0.27708207052633826,1.4079185109950665,-0.8484242520476066,0.9136517529855244,-0.32440391947894126,0.16422672840018293,0.3200377799576402,1.6502134184887278,0.5378014130749076,-0.7042757348888713,0.0007261600330815427,2.16997824737085,-0.8725094769913738,-1.878688557005862,-0.5428908001174662,0.5779550536398687,0.04826021827799214,-0.2436652513521843,-0.5129719839873548,0.6194874030357109,0.07846799452002691,2.378028412616421,-1.0137731537399135,-0.2864206802350591,-0.44642570607140164,-0.13875391846953833,-1.1256925409141372,1.0632102595206392,0.512383359783703,-0.8152483526700439,-1.3092534886118672,-1.4554874001893552,0.4642857899853191,0.32017295420718533,-0.2694094541788255,0.33140769031404654,-0.8955922326573624,0.24450735528856402,0.8095661656450409,-1.1448336999408872,1.0041490692528503,-1.812558643174803,1.1019838542713625],\"z\":[157.475226551448,-103.49263753422153,-28.888590321166912,86.9877285443967,96.075264099734,4.929764503540717,-91.33564435048436,-57.23213188014656,-28.045264389966352,82.19100325876569,36.28512545218759,125.34566904761937,119.04768654799808,-133.45706457310737,-30.71510622333065,-302.36735987919815,314.5007510597149,-51.79468697428007,-221.67948797570614,3.8589062144838167,-183.35740682174213,90.31987938162486,-299.1383793124245,-128.61297520154898,-43.439562084819336,7.4935142275871485,47.627574969103485,-88.97557825009584,-256.1734454248524,111.42142205308228,-12.373093441087839,36.99994644278958,44.86576800184906,-38.91994675992726,36.78857422580941,42.97236340507202,17.451056679966342,-5.971561082164911,-116.10676576568191,2.1686845334169256,-32.26493146447707,40.910102826649194,-25.463680024062615,15.369762387944265,-33.665853586058994,-147.84198302887603,-137.73198652130412,-143.5220085884537,109.55202945690849,89.01802368354689,170.1625181652862,101.21325033086039,31.703646935446457,36.63429080018907,-58.426526881047835,240.17939475482288,5.079566741047529,-20.622011095279927,158.9488095403114,-60.60950888516571,183.97453998013648,-103.88355478453073,65.89626831542436,-31.51418069804653,102.52651451408825,61.63176033333112,-38.96374040934927,52.995143168826544,147.6108166300899,-11.399000659925797,-152.88185982694722,-57.091285016028394,39.91044905532364,83.48841181372067,-15.713746572098223,-89.70930581824935,62.0628699312358,-21.226771728183905,178.13409453126206,-84.33499065924443,0.4394394038312939,50.70795245162328,-45.51047695609484,-12.645197218595541,132.72299605610655,122.83495082575251,-146.2023340746258,-87.42045943267945,-215.58731316759832,233.55135286618224,26.889314939242965,50.27057952390119,54.06730448629655,-185.02869837194987,50.32669442375456,10.492713384678858,-124.24026057243226,88.90269784200188,-189.27861321823985,105.57249055906664],\"type\":\"scatter3d\"},{\"colorscale\":[[0.0,\"#440154\"],[0.1111111111111111,\"#482878\"],[0.2222222222222222,\"#3e4989\"],[0.3333333333333333,\"#31688e\"],[0.4444444444444444,\"#26828e\"],[0.5555555555555556,\"#1f9e89\"],[0.6666666666666666,\"#35b779\"],[0.7777777777777778,\"#6ece58\"],[0.8888888888888888,\"#b5de2b\"],[1.0,\"#fde725\"]],\"x\":[[-2.2674177736455032,-1.7640444431125433,-1.260671112579583,-0.7572977820466229,-0.25392445151366294,0.24944887901929702,0.7528222095522574,1.2561955400852174,1.7595688706181773,2.2629422011511373],[-2.2674177736455032,-1.7640444431125433,-1.260671112579583,-0.7572977820466229,-0.25392445151366294,0.24944887901929702,0.7528222095522574,1.2561955400852174,1.7595688706181773,2.2629422011511373],[-2.2674177736455032,-1.7640444431125433,-1.260671112579583,-0.7572977820466229,-0.25392445151366294,0.24944887901929702,0.7528222095522574,1.2561955400852174,1.7595688706181773,2.2629422011511373],[-2.2674177736455032,-1.7640444431125433,-1.260671112579583,-0.7572977820466229,-0.25392445151366294,0.24944887901929702,0.7528222095522574,1.2561955400852174,1.7595688706181773,2.2629422011511373],[-2.2674177736455032,-1.7640444431125433,-1.260671112579583,-0.7572977820466229,-0.25392445151366294,0.24944887901929702,0.7528222095522574,1.2561955400852174,1.7595688706181773,2.2629422011511373],[-2.2674177736455032,-1.7640444431125433,-1.260671112579583,-0.7572977820466229,-0.25392445151366294,0.24944887901929702,0.7528222095522574,1.2561955400852174,1.7595688706181773,2.2629422011511373],[-2.2674177736455032,-1.7640444431125433,-1.260671112579583,-0.7572977820466229,-0.25392445151366294,0.24944887901929702,0.7528222095522574,1.2561955400852174,1.7595688706181773,2.2629422011511373],[-2.2674177736455032,-1.7640444431125433,-1.260671112579583,-0.7572977820466229,-0.25392445151366294,0.24944887901929702,0.7528222095522574,1.2561955400852174,1.7595688706181773,2.2629422011511373],[-2.2674177736455032,-1.7640444431125433,-1.260671112579583,-0.7572977820466229,-0.25392445151366294,0.24944887901929702,0.7528222095522574,1.2561955400852174,1.7595688706181773,2.2629422011511373],[-2.2674177736455032,-1.7640444431125433,-1.260671112579583,-0.7572977820466229,-0.25392445151366294,0.24944887901929702,0.7528222095522574,1.2561955400852174,1.7595688706181773,2.2629422011511373]],\"y\":[[-2.556319003123823,-2.556319003123823,-2.556319003123823,-2.556319003123823,-2.556319003123823,-2.556319003123823,-2.556319003123823,-2.556319003123823,-2.556319003123823,-2.556319003123823],[-1.9773951421309155,-1.9773951421309155,-1.9773951421309155,-1.9773951421309155,-1.9773951421309155,-1.9773951421309155,-1.9773951421309155,-1.9773951421309155,-1.9773951421309155,-1.9773951421309155],[-1.3984712811380076,-1.3984712811380076,-1.3984712811380076,-1.3984712811380076,-1.3984712811380076,-1.3984712811380076,-1.3984712811380076,-1.3984712811380076,-1.3984712811380076,-1.3984712811380076],[-0.8195474201450996,-0.8195474201450996,-0.8195474201450996,-0.8195474201450996,-0.8195474201450996,-0.8195474201450996,-0.8195474201450996,-0.8195474201450996,-0.8195474201450996,-0.8195474201450996],[-0.2406235591521919,-0.2406235591521919,-0.2406235591521919,-0.2406235591521919,-0.2406235591521919,-0.2406235591521919,-0.2406235591521919,-0.2406235591521919,-0.2406235591521919,-0.2406235591521919],[0.3383003018407158,0.3383003018407158,0.3383003018407158,0.3383003018407158,0.3383003018407158,0.3383003018407158,0.3383003018407158,0.3383003018407158,0.3383003018407158,0.3383003018407158],[0.917224162833624,0.917224162833624,0.917224162833624,0.917224162833624,0.917224162833624,0.917224162833624,0.917224162833624,0.917224162833624,0.917224162833624,0.917224162833624],[1.4961480238265317,1.4961480238265317,1.4961480238265317,1.4961480238265317,1.4961480238265317,1.4961480238265317,1.4961480238265317,1.4961480238265317,1.4961480238265317,1.4961480238265317],[2.0750718848194394,2.0750718848194394,2.0750718848194394,2.0750718848194394,2.0750718848194394,2.0750718848194394,2.0750718848194394,2.0750718848194394,2.0750718848194394,2.0750718848194394],[2.6539957458123467,2.6539957458123467,2.6539957458123467,2.6539957458123467,2.6539957458123467,2.6539957458123467,2.6539957458123467,2.6539957458123467,2.6539957458123467,2.6539957458123467]],\"z\":[[-337.4310086547622,-314.2050743038536,-290.979139952945,-267.75320560203636,-244.5272712511278,-221.30133690021916,-198.07540254931052,-174.84946819840195,-151.62353384749338,-128.39759949658475],[-282.66549853303763,-259.43956418212906,-236.21362983122043,-212.9876954803118,-189.76176112940323,-166.5358267784946,-143.30989242758596,-120.08395807667738,-96.85802372576879,-73.63208937486019],[-227.89998841131307,-204.67405406040444,-181.44811970949587,-158.22218535858724,-134.99625100767867,-111.77031665677004,-88.54438230586142,-65.31844795495282,-42.09251360404423,-18.866579253135626],[-173.13447828958851,-149.90854393867988,-126.68260958777127,-103.45667523686267,-80.23074088595406,-57.00480653504546,-33.778872184136844,-10.552937833228249,12.672996517680346,35.89893086858895],[-118.36896816786394,-95.14303381695534,-71.91709946604672,-48.69116511513812,-25.465230764229517,-2.2392964133209166,20.986637937587705,44.212572288496304,67.43850663940489,90.6644409903135],[-63.60345804613938,-40.377523695230785,-17.151589344322176,6.074345006586434,29.300279357495036,52.52621370840363,75.75214805931226,98.97808241022085,122.20401676112944,145.42995111203805],[-8.837947924414792,14.38798642649381,37.61392077740242,60.83985512831103,84.06578947921963,107.29172383012823,130.51765818103684,153.74359253194547,176.96952688285404,200.19546123376261],[45.92756219730974,69.15349654821834,92.37943089912694,115.60536525003556,138.83129960094413,162.05723395185277,185.2831683027614,208.50910265366997,231.73503700457854,254.96097135548717],[100.6930723190343,123.9190066699429,147.1449410208515,170.37087537176012,193.5968097226687,216.82274407357733,240.04867842448596,263.27461277539453,286.5005471263031,309.72648147721173],[155.4585824407588,178.68451679166742,201.910451142576,225.13638549348462,248.3623198443932,271.58825419530183,294.8141885462104,318.04012289711903,341.2660572480276,364.49199159893624]],\"type\":\"surface\"}],                        {\"template\":{\"data\":{\"histogram2dcontour\":[{\"type\":\"histogram2dcontour\",\"colorbar\":{\"outlinewidth\":0,\"ticks\":\"\"},\"colorscale\":[[0.0,\"#0d0887\"],[0.1111111111111111,\"#46039f\"],[0.2222222222222222,\"#7201a8\"],[0.3333333333333333,\"#9c179e\"],[0.4444444444444444,\"#bd3786\"],[0.5555555555555556,\"#d8576b\"],[0.6666666666666666,\"#ed7953\"],[0.7777777777777778,\"#fb9f3a\"],[0.8888888888888888,\"#fdca26\"],[1.0,\"#f0f921\"]]}],\"choropleth\":[{\"type\":\"choropleth\",\"colorbar\":{\"outlinewidth\":0,\"ticks\":\"\"}}],\"histogram2d\":[{\"type\":\"histogram2d\",\"colorbar\":{\"outlinewidth\":0,\"ticks\":\"\"},\"colorscale\":[[0.0,\"#0d0887\"],[0.1111111111111111,\"#46039f\"],[0.2222222222222222,\"#7201a8\"],[0.3333333333333333,\"#9c179e\"],[0.4444444444444444,\"#bd3786\"],[0.5555555555555556,\"#d8576b\"],[0.6666666666666666,\"#ed7953\"],[0.7777777777777778,\"#fb9f3a\"],[0.8888888888888888,\"#fdca26\"],[1.0,\"#f0f921\"]]}],\"heatmap\":[{\"type\":\"heatmap\",\"colorbar\":{\"outlinewidth\":0,\"ticks\":\"\"},\"colorscale\":[[0.0,\"#0d0887\"],[0.1111111111111111,\"#46039f\"],[0.2222222222222222,\"#7201a8\"],[0.3333333333333333,\"#9c179e\"],[0.4444444444444444,\"#bd3786\"],[0.5555555555555556,\"#d8576b\"],[0.6666666666666666,\"#ed7953\"],[0.7777777777777778,\"#fb9f3a\"],[0.8888888888888888,\"#fdca26\"],[1.0,\"#f0f921\"]]}],\"heatmapgl\":[{\"type\":\"heatmapgl\",\"colorbar\":{\"outlinewidth\":0,\"ticks\":\"\"},\"colorscale\":[[0.0,\"#0d0887\"],[0.1111111111111111,\"#46039f\"],[0.2222222222222222,\"#7201a8\"],[0.3333333333333333,\"#9c179e\"],[0.4444444444444444,\"#bd3786\"],[0.5555555555555556,\"#d8576b\"],[0.6666666666666666,\"#ed7953\"],[0.7777777777777778,\"#fb9f3a\"],[0.8888888888888888,\"#fdca26\"],[1.0,\"#f0f921\"]]}],\"contourcarpet\":[{\"type\":\"contourcarpet\",\"colorbar\":{\"outlinewidth\":0,\"ticks\":\"\"}}],\"contour\":[{\"type\":\"contour\",\"colorbar\":{\"outlinewidth\":0,\"ticks\":\"\"},\"colorscale\":[[0.0,\"#0d0887\"],[0.1111111111111111,\"#46039f\"],[0.2222222222222222,\"#7201a8\"],[0.3333333333333333,\"#9c179e\"],[0.4444444444444444,\"#bd3786\"],[0.5555555555555556,\"#d8576b\"],[0.6666666666666666,\"#ed7953\"],[0.7777777777777778,\"#fb9f3a\"],[0.8888888888888888,\"#fdca26\"],[1.0,\"#f0f921\"]]}],\"surface\":[{\"type\":\"surface\",\"colorbar\":{\"outlinewidth\":0,\"ticks\":\"\"},\"colorscale\":[[0.0,\"#0d0887\"],[0.1111111111111111,\"#46039f\"],[0.2222222222222222,\"#7201a8\"],[0.3333333333333333,\"#9c179e\"],[0.4444444444444444,\"#bd3786\"],[0.5555555555555556,\"#d8576b\"],[0.6666666666666666,\"#ed7953\"],[0.7777777777777778,\"#fb9f3a\"],[0.8888888888888888,\"#fdca26\"],[1.0,\"#f0f921\"]]}],\"mesh3d\":[{\"type\":\"mesh3d\",\"colorbar\":{\"outlinewidth\":0,\"ticks\":\"\"}}],\"scatter\":[{\"fillpattern\":{\"fillmode\":\"overlay\",\"size\":10,\"solidity\":0.2},\"type\":\"scatter\"}],\"parcoords\":[{\"type\":\"parcoords\",\"line\":{\"colorbar\":{\"outlinewidth\":0,\"ticks\":\"\"}}}],\"scatterpolargl\":[{\"type\":\"scatterpolargl\",\"marker\":{\"colorbar\":{\"outlinewidth\":0,\"ticks\":\"\"}}}],\"bar\":[{\"error_x\":{\"color\":\"#2a3f5f\"},\"error_y\":{\"color\":\"#2a3f5f\"},\"marker\":{\"line\":{\"color\":\"#E5ECF6\",\"width\":0.5},\"pattern\":{\"fillmode\":\"overlay\",\"size\":10,\"solidity\":0.2}},\"type\":\"bar\"}],\"scattergeo\":[{\"type\":\"scattergeo\",\"marker\":{\"colorbar\":{\"outlinewidth\":0,\"ticks\":\"\"}}}],\"scatterpolar\":[{\"type\":\"scatterpolar\",\"marker\":{\"colorbar\":{\"outlinewidth\":0,\"ticks\":\"\"}}}],\"histogram\":[{\"marker\":{\"pattern\":{\"fillmode\":\"overlay\",\"size\":10,\"solidity\":0.2}},\"type\":\"histogram\"}],\"scattergl\":[{\"type\":\"scattergl\",\"marker\":{\"colorbar\":{\"outlinewidth\":0,\"ticks\":\"\"}}}],\"scatter3d\":[{\"type\":\"scatter3d\",\"line\":{\"colorbar\":{\"outlinewidth\":0,\"ticks\":\"\"}},\"marker\":{\"colorbar\":{\"outlinewidth\":0,\"ticks\":\"\"}}}],\"scattermapbox\":[{\"type\":\"scattermapbox\",\"marker\":{\"colorbar\":{\"outlinewidth\":0,\"ticks\":\"\"}}}],\"scatterternary\":[{\"type\":\"scatterternary\",\"marker\":{\"colorbar\":{\"outlinewidth\":0,\"ticks\":\"\"}}}],\"scattercarpet\":[{\"type\":\"scattercarpet\",\"marker\":{\"colorbar\":{\"outlinewidth\":0,\"ticks\":\"\"}}}],\"carpet\":[{\"aaxis\":{\"endlinecolor\":\"#2a3f5f\",\"gridcolor\":\"white\",\"linecolor\":\"white\",\"minorgridcolor\":\"white\",\"startlinecolor\":\"#2a3f5f\"},\"baxis\":{\"endlinecolor\":\"#2a3f5f\",\"gridcolor\":\"white\",\"linecolor\":\"white\",\"minorgridcolor\":\"white\",\"startlinecolor\":\"#2a3f5f\"},\"type\":\"carpet\"}],\"table\":[{\"cells\":{\"fill\":{\"color\":\"#EBF0F8\"},\"line\":{\"color\":\"white\"}},\"header\":{\"fill\":{\"color\":\"#C8D4E3\"},\"line\":{\"color\":\"white\"}},\"type\":\"table\"}],\"barpolar\":[{\"marker\":{\"line\":{\"color\":\"#E5ECF6\",\"width\":0.5},\"pattern\":{\"fillmode\":\"overlay\",\"size\":10,\"solidity\":0.2}},\"type\":\"barpolar\"}],\"pie\":[{\"automargin\":true,\"type\":\"pie\"}]},\"layout\":{\"autotypenumbers\":\"strict\",\"colorway\":[\"#636efa\",\"#EF553B\",\"#00cc96\",\"#ab63fa\",\"#FFA15A\",\"#19d3f3\",\"#FF6692\",\"#B6E880\",\"#FF97FF\",\"#FECB52\"],\"font\":{\"color\":\"#2a3f5f\"},\"hovermode\":\"closest\",\"hoverlabel\":{\"align\":\"left\"},\"paper_bgcolor\":\"white\",\"plot_bgcolor\":\"#E5ECF6\",\"polar\":{\"bgcolor\":\"#E5ECF6\",\"angularaxis\":{\"gridcolor\":\"white\",\"linecolor\":\"white\",\"ticks\":\"\"},\"radialaxis\":{\"gridcolor\":\"white\",\"linecolor\":\"white\",\"ticks\":\"\"}},\"ternary\":{\"bgcolor\":\"#E5ECF6\",\"aaxis\":{\"gridcolor\":\"white\",\"linecolor\":\"white\",\"ticks\":\"\"},\"baxis\":{\"gridcolor\":\"white\",\"linecolor\":\"white\",\"ticks\":\"\"},\"caxis\":{\"gridcolor\":\"white\",\"linecolor\":\"white\",\"ticks\":\"\"}},\"coloraxis\":{\"colorbar\":{\"outlinewidth\":0,\"ticks\":\"\"}},\"colorscale\":{\"sequential\":[[0.0,\"#0d0887\"],[0.1111111111111111,\"#46039f\"],[0.2222222222222222,\"#7201a8\"],[0.3333333333333333,\"#9c179e\"],[0.4444444444444444,\"#bd3786\"],[0.5555555555555556,\"#d8576b\"],[0.6666666666666666,\"#ed7953\"],[0.7777777777777778,\"#fb9f3a\"],[0.8888888888888888,\"#fdca26\"],[1.0,\"#f0f921\"]],\"sequentialminus\":[[0.0,\"#0d0887\"],[0.1111111111111111,\"#46039f\"],[0.2222222222222222,\"#7201a8\"],[0.3333333333333333,\"#9c179e\"],[0.4444444444444444,\"#bd3786\"],[0.5555555555555556,\"#d8576b\"],[0.6666666666666666,\"#ed7953\"],[0.7777777777777778,\"#fb9f3a\"],[0.8888888888888888,\"#fdca26\"],[1.0,\"#f0f921\"]],\"diverging\":[[0,\"#8e0152\"],[0.1,\"#c51b7d\"],[0.2,\"#de77ae\"],[0.3,\"#f1b6da\"],[0.4,\"#fde0ef\"],[0.5,\"#f7f7f7\"],[0.6,\"#e6f5d0\"],[0.7,\"#b8e186\"],[0.8,\"#7fbc41\"],[0.9,\"#4d9221\"],[1,\"#276419\"]]},\"xaxis\":{\"gridcolor\":\"white\",\"linecolor\":\"white\",\"ticks\":\"\",\"title\":{\"standoff\":15},\"zerolinecolor\":\"white\",\"automargin\":true,\"zerolinewidth\":2},\"yaxis\":{\"gridcolor\":\"white\",\"linecolor\":\"white\",\"ticks\":\"\",\"title\":{\"standoff\":15},\"zerolinecolor\":\"white\",\"automargin\":true,\"zerolinewidth\":2},\"scene\":{\"xaxis\":{\"backgroundcolor\":\"#E5ECF6\",\"gridcolor\":\"white\",\"linecolor\":\"white\",\"showbackground\":true,\"ticks\":\"\",\"zerolinecolor\":\"white\",\"gridwidth\":2},\"yaxis\":{\"backgroundcolor\":\"#E5ECF6\",\"gridcolor\":\"white\",\"linecolor\":\"white\",\"showbackground\":true,\"ticks\":\"\",\"zerolinecolor\":\"white\",\"gridwidth\":2},\"zaxis\":{\"backgroundcolor\":\"#E5ECF6\",\"gridcolor\":\"white\",\"linecolor\":\"white\",\"showbackground\":true,\"ticks\":\"\",\"zerolinecolor\":\"white\",\"gridwidth\":2}},\"shapedefaults\":{\"line\":{\"color\":\"#2a3f5f\"}},\"annotationdefaults\":{\"arrowcolor\":\"#2a3f5f\",\"arrowhead\":0,\"arrowwidth\":1},\"geo\":{\"bgcolor\":\"white\",\"landcolor\":\"#E5ECF6\",\"subunitcolor\":\"white\",\"showland\":true,\"showlakes\":true,\"lakecolor\":\"white\"},\"title\":{\"x\":0.05},\"mapbox\":{\"style\":\"light\"}}},\"scene\":{\"domain\":{\"x\":[0.0,1.0],\"y\":[0.0,1.0]},\"xaxis\":{\"title\":{\"text\":\"feature1\"}},\"yaxis\":{\"title\":{\"text\":\"feature2\"}},\"zaxis\":{\"title\":{\"text\":\"target\"}}},\"legend\":{\"tracegroupgap\":0},\"margin\":{\"t\":60}},                        {\"responsive\": true}                    ).then(function(){\n",
              "                            \n",
              "var gd = document.getElementById('be4b4139-5265-423f-9b44-93fbfdf8f6db');\n",
              "var x = new MutationObserver(function (mutations, observer) {{\n",
              "        var display = window.getComputedStyle(gd).display;\n",
              "        if (!display || display === 'none') {{\n",
              "            console.log([gd, 'removed!']);\n",
              "            Plotly.purge(gd);\n",
              "            observer.disconnect();\n",
              "        }}\n",
              "}});\n",
              "\n",
              "// Listen for the removal of the full notebook cells\n",
              "var notebookContainer = gd.closest('#notebook-container');\n",
              "if (notebookContainer) {{\n",
              "    x.observe(notebookContainer, {childList: true});\n",
              "}}\n",
              "\n",
              "// Listen for the clearing of the current output cell\n",
              "var outputEl = gd.closest('.output');\n",
              "if (outputEl) {{\n",
              "    x.observe(outputEl, {childList: true});\n",
              "}}\n",
              "\n",
              "                        })                };                            </script>        </div>\n",
              "</body>\n",
              "</html>"
            ]
          },
          "metadata": {}
        }
      ]
    },
    {
      "cell_type": "code",
      "source": [],
      "metadata": {
        "id": "XYDySbh8zmYb"
      },
      "execution_count": null,
      "outputs": []
    }
  ]
}