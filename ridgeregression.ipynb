{
  "nbformat": 4,
  "nbformat_minor": 0,
  "metadata": {
    "colab": {
      "provenance": []
    },
    "kernelspec": {
      "name": "python3",
      "display_name": "Python 3"
    },
    "language_info": {
      "name": "python"
    }
  },
  "cells": [
    {
      "cell_type": "code",
      "execution_count": 1,
      "metadata": {
        "id": "a61WfZ9sCHvV"
      },
      "outputs": [],
      "source": [
        "class myridge:\n",
        "  def __init__(self,alpha=0.1):\n",
        "    self.alpha=alpha\n",
        "    self.m=None\n",
        "    self.b=None\n",
        "\n",
        "  def fit(self,X_train,y_train):\n",
        "\n",
        "    num=0\n",
        "    den=0\n",
        "    for i in range(X_train.shape[0]):\n",
        "      num=num+ (y_train[i]- y_train.mean())*(X_train[i]-X_train.mean())\n",
        "      den=den + (X_train[i]-X_train.mean())\n",
        "    self.m=num/(den+self.alpha)\n",
        "    self.b=y_train.mean()-(self.m *X_train.mean())\n",
        "    print(self.m,self.b)\n",
        "\n",
        "  def predict(X_test):\n",
        "    pass"
      ]
    },
    {
      "cell_type": "markdown",
      "source": [
        "#ridge regression for n-D data\n",
        "we convert the formula in matrix format"
      ],
      "metadata": {
        "id": "o_XWhLGYFb0w"
      }
    },
    {
      "cell_type": "code",
      "source": [
        "class myridge2:\n",
        "\n",
        "  def __init__(self,alpha=0.2):\n",
        "    self.alpha=alpha\n",
        "    self.coef_=None\n",
        "    self.intercept_=None\n",
        "\n",
        "  def fit(self,X_train,y_train):\n",
        "    X_train=np.insert(X_train,0,1,axis=1)\n",
        "    I=np.identity(X_train.shape[1])\n",
        "    result=np.linalg.inv(np.dot(X_train.T,X_train)+self.alpha*I).dot(X_train.T).dot(y_train)\n",
        "    self.intercept_=result[0]\n",
        "    self.coef=result[1:]\n",
        "\n",
        "  def predict(self,X_test):\n",
        "    return np.dot(X_test,self.coef_) + self.intercept_"
      ],
      "metadata": {
        "id": "fYf90E7DFRtv"
      },
      "execution_count": null,
      "outputs": []
    },
    {
      "cell_type": "markdown",
      "source": [
        "#ridge regression with gradient descent"
      ],
      "metadata": {
        "id": "3ql-ftDAM1EW"
      }
    },
    {
      "cell_type": "code",
      "source": [
        "class myridge3:\n",
        "\n",
        "  def __init__(self,epochs,learning_rate,alpha):\n",
        "    self.learning_rate=learning_rate\n",
        "    self.epochs=epochs\n",
        "    self.alpha=alpha\n",
        "    self.coef_=None\n",
        "    self.intercept_=None\n",
        "\n",
        "  def fit(X_train,y_train):\n",
        "    self.coef_=np.ones(X_train.shape[1])\n",
        "    self.intercept_=0\n",
        "    theta=np.insert(self.coef_,0,self.intercept_)\n",
        "\n",
        "    X_train=np.insert(X_train,0,1,axis=1)\n",
        "\n",
        "    for i in range(self.epochs):\n",
        "      theta_der=np.dot(X_train.T,X_train).dot(theta) - np.dot(X_train.T,y_train)-self.alpha*theta\n",
        "      theta=theta-self.learning_rate*theta_det\n",
        "\n",
        "      self.coef_=theta[1:]\n",
        "      self.intercept_=theta[0]\n",
        "\n",
        "  def predict(X_test):\n",
        "    return np.dot(X_test,self.coef_)+ self.intercept_\n"
      ],
      "metadata": {
        "id": "iXPx-d76M4_b"
      },
      "execution_count": null,
      "outputs": []
    }
  ]
}